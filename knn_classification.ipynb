{
 "cells": [
  {
   "cell_type": "code",
   "execution_count": 63,
   "metadata": {},
   "outputs": [],
   "source": [
    "import numpy as np\n",
    "import pandas as pd\n",
    "import category_encoders as ce\n",
    "\n",
    "from sklearn.model_selection import train_test_split, KFold, RepeatedKFold\n",
    "from sklearn.preprocessing import StandardScaler\n",
    "from sklearn.neighbors import KNeighborsClassifier\n",
    "from sklearn.metrics import precision_score, recall_score, accuracy_score, confusion_matrix"
   ]
  },
  {
   "cell_type": "code",
   "execution_count": 3,
   "metadata": {},
   "outputs": [],
   "source": [
    "def handle_data(csv):\n",
    "    df = pd.read_csv(csv)\n",
    "    \n",
    "    # Encode gender\n",
    "    df = df[df.gender != \"Other\"]\n",
    "    one_hot = ce.OneHotEncoder()\n",
    "    gender_encoded = one_hot.fit_transform(df.gender)\n",
    "    df = df.join(gender_encoded)\n",
    "    del df[\"gender\"]\n",
    "    \n",
    "    # Encode work_type, Residence_type, smoking_status features\n",
    "    target_encoder = ce.TargetEncoder(cols=[\"work_type\", \"Residence_type\", \"smoking_status\"])\n",
    "    df = target_encoder.fit_transform(df, df.stroke)\n",
    "    \n",
    "    # fill None values with mean\n",
    "    df.bmi = df.bmi.fillna(df.bmi.mean())\n",
    "    \n",
    "    # Encode ever_marries feature\n",
    "    df.ever_married = df.ever_married.replace([\"Yes\", \"No\"], [1, 0])\n",
    "    \n",
    "    # Scaling\n",
    "    cols_to_scale = [\"age\", \"avg_glucose_level\", \"bmi\"]\n",
    "    scaler = StandardScaler()\n",
    "    df[cols_to_scale] = scaler.fit_transform(df[cols_to_scale])\n",
    "    \n",
    "    return df"
   ]
  },
  {
   "cell_type": "code",
   "execution_count": 4,
   "metadata": {},
   "outputs": [],
   "source": [
    "def split_data(df):\n",
    "    features = df.loc[:, df.columns != \"stroke\"]\n",
    "    target = df.stroke\n",
    "    x_train, x_test, y_train, y_test = train_test_split(features, target, test_size=0.25, random_state=42)\n",
    "    return x_train, x_test, y_train, y_test"
   ]
  },
  {
   "cell_type": "code",
   "execution_count": 5,
   "metadata": {},
   "outputs": [],
   "source": [
    "def balance_splitting(df, rows_to_use):\n",
    "    zero_stroke = df[df.stroke == 0].sample(rows_to_use)\n",
    "    new_df = df[df.stroke == 1].append(zero_stroke, ignore_index=True)\n",
    "    features = new_df.loc[:, new_df.columns != \"stroke\"]\n",
    "    target = new_df.stroke\n",
    "    x_train, x_test, y_train, y_test = train_test_split(features, target, test_size=0.25, random_state=42)\n",
    "    return x_train, x_test, y_train, y_test"
   ]
  },
  {
   "cell_type": "code",
   "execution_count": 6,
   "metadata": {},
   "outputs": [
    {
     "name": "stderr",
     "output_type": "stream",
     "text": [
      "C:\\Users\\svitl\\anaconda3\\lib\\site-packages\\category_encoders\\utils.py:21: FutureWarning: is_categorical is deprecated and will be removed in a future version.  Use is_categorical_dtype instead\n",
      "  elif pd.api.types.is_categorical(cols):\n",
      "C:\\Users\\svitl\\anaconda3\\lib\\site-packages\\category_encoders\\utils.py:21: FutureWarning: is_categorical is deprecated and will be removed in a future version.  Use is_categorical_dtype instead\n",
      "  elif pd.api.types.is_categorical(cols):\n"
     ]
    }
   ],
   "source": [
    "path = \"healthcare.csv\"\n",
    "data = handle_data(path)"
   ]
  },
  {
   "cell_type": "code",
   "execution_count": 7,
   "metadata": {},
   "outputs": [],
   "source": [
    "x_train, x_test, y_train, y_test = split_data(data)"
   ]
  },
  {
   "cell_type": "code",
   "execution_count": 8,
   "metadata": {},
   "outputs": [],
   "source": [
    "x_train_balanced, x_test_balanced, y_train_balanced, y_test_balanced = balance_splitting(data, 400)"
   ]
  },
  {
   "cell_type": "code",
   "execution_count": 9,
   "metadata": {},
   "outputs": [
    {
     "data": {
      "text/plain": [
       "KNeighborsClassifier()"
      ]
     },
     "execution_count": 9,
     "metadata": {},
     "output_type": "execute_result"
    }
   ],
   "source": [
    "knn = KNeighborsClassifier()\n",
    "knn"
   ]
  },
  {
   "cell_type": "code",
   "execution_count": 11,
   "metadata": {},
   "outputs": [
    {
     "data": {
      "text/plain": [
       "KNeighborsClassifier()"
      ]
     },
     "execution_count": 11,
     "metadata": {},
     "output_type": "execute_result"
    }
   ],
   "source": [
    "knn.fit(x_train, y_train)"
   ]
  },
  {
   "cell_type": "code",
   "execution_count": 12,
   "metadata": {},
   "outputs": [],
   "source": [
    "predict =knn.predict(x_test)"
   ]
  },
  {
   "cell_type": "code",
   "execution_count": 13,
   "metadata": {},
   "outputs": [
    {
     "data": {
      "text/plain": [
       "0.9374021909233177"
      ]
     },
     "execution_count": 13,
     "metadata": {},
     "output_type": "execute_result"
    }
   ],
   "source": [
    "accuracy_score(y_test, predict)"
   ]
  },
  {
   "cell_type": "code",
   "execution_count": 14,
   "metadata": {},
   "outputs": [
    {
     "data": {
      "text/plain": [
       "array([[1198,    0],\n",
       "       [  80,    0]], dtype=int64)"
      ]
     },
     "execution_count": 14,
     "metadata": {},
     "output_type": "execute_result"
    }
   ],
   "source": [
    "confusion_matrix(y_test, predict)"
   ]
  },
  {
   "cell_type": "code",
   "execution_count": 16,
   "metadata": {},
   "outputs": [
    {
     "data": {
      "text/plain": [
       "(1198, 0, 80, 0)"
      ]
     },
     "execution_count": 16,
     "metadata": {},
     "output_type": "execute_result"
    }
   ],
   "source": [
    "tn, fp,fn, tp = confusion_matrix(y_test, predict).ravel()\n",
    "(tn, fp, fn, tp)"
   ]
  },
  {
   "cell_type": "code",
   "execution_count": 17,
   "metadata": {},
   "outputs": [
    {
     "data": {
      "text/plain": [
       "0    1198\n",
       "1      80\n",
       "Name: stroke, dtype: int64"
      ]
     },
     "execution_count": 17,
     "metadata": {},
     "output_type": "execute_result"
    }
   ],
   "source": [
    "y_test.value_counts()"
   ]
  },
  {
   "cell_type": "code",
   "execution_count": 18,
   "metadata": {},
   "outputs": [
    {
     "data": {
      "text/plain": [
       "KNeighborsClassifier()"
      ]
     },
     "execution_count": 18,
     "metadata": {},
     "output_type": "execute_result"
    }
   ],
   "source": [
    "knn.fit(x_train_balanced, y_train_balanced)"
   ]
  },
  {
   "cell_type": "code",
   "execution_count": 19,
   "metadata": {},
   "outputs": [],
   "source": [
    "predict= knn.predict(x_test_balanced)"
   ]
  },
  {
   "cell_type": "code",
   "execution_count": 20,
   "metadata": {},
   "outputs": [
    {
     "data": {
      "text/plain": [
       "0.5337423312883436"
      ]
     },
     "execution_count": 20,
     "metadata": {},
     "output_type": "execute_result"
    }
   ],
   "source": [
    "accuracy_score(y_test_balanced, predict)"
   ]
  },
  {
   "cell_type": "code",
   "execution_count": 21,
   "metadata": {},
   "outputs": [
    {
     "data": {
      "text/plain": [
       "array([[71, 26],\n",
       "       [50, 16]], dtype=int64)"
      ]
     },
     "execution_count": 21,
     "metadata": {},
     "output_type": "execute_result"
    }
   ],
   "source": [
    "confusion_matrix(y_test_balanced, predict)\n"
   ]
  },
  {
   "cell_type": "code",
   "execution_count": 23,
   "metadata": {},
   "outputs": [
    {
     "data": {
      "text/plain": [
       "(71, 26, 50, 16)"
      ]
     },
     "execution_count": 23,
     "metadata": {},
     "output_type": "execute_result"
    }
   ],
   "source": [
    "tn, fp, fn, tp = confusion_matrix(y_test_balanced, predict).ravel()\n",
    "tn, fp, fn, tp"
   ]
  },
  {
   "cell_type": "code",
   "execution_count": 24,
   "metadata": {},
   "outputs": [
    {
     "data": {
      "text/plain": [
       "0    97\n",
       "1    66\n",
       "Name: stroke, dtype: int64"
      ]
     },
     "execution_count": 24,
     "metadata": {},
     "output_type": "execute_result"
    }
   ],
   "source": [
    "y_test_balanced.value_counts()"
   ]
  },
  {
   "cell_type": "code",
   "execution_count": 25,
   "metadata": {},
   "outputs": [],
   "source": [
    "predict_2 = knn.predict(x_test)"
   ]
  },
  {
   "cell_type": "code",
   "execution_count": 26,
   "metadata": {},
   "outputs": [
    {
     "data": {
      "text/plain": [
       "0.6651017214397497"
      ]
     },
     "execution_count": 26,
     "metadata": {},
     "output_type": "execute_result"
    }
   ],
   "source": [
    "accuracy_score(y_test, predict_2)"
   ]
  },
  {
   "cell_type": "code",
   "execution_count": 28,
   "metadata": {},
   "outputs": [
    {
     "data": {
      "text/plain": [
       "(818, 380, 48, 32)"
      ]
     },
     "execution_count": 28,
     "metadata": {},
     "output_type": "execute_result"
    }
   ],
   "source": [
    "tn, fp, fn, tp = confusion_matrix(y_test, predict_2).ravel()\n",
    "tn, fp, fn, tp"
   ]
  },
  {
   "cell_type": "code",
   "execution_count": 29,
   "metadata": {},
   "outputs": [
    {
     "data": {
      "text/plain": [
       "0    1198\n",
       "1      80\n",
       "Name: stroke, dtype: int64"
      ]
     },
     "execution_count": 29,
     "metadata": {},
     "output_type": "execute_result"
    }
   ],
   "source": [
    "y_test.value_counts()"
   ]
  },
  {
   "cell_type": "code",
   "execution_count": 30,
   "metadata": {},
   "outputs": [],
   "source": [
    "knn = KNeighborsClassifier(20)"
   ]
  },
  {
   "cell_type": "code",
   "execution_count": 31,
   "metadata": {},
   "outputs": [
    {
     "data": {
      "text/plain": [
       "KNeighborsClassifier(n_neighbors=20)"
      ]
     },
     "execution_count": 31,
     "metadata": {},
     "output_type": "execute_result"
    }
   ],
   "source": [
    "knn.fit(x_train, y_train)"
   ]
  },
  {
   "cell_type": "code",
   "execution_count": 33,
   "metadata": {},
   "outputs": [],
   "source": [
    "predict = knn.predict(x_test)"
   ]
  },
  {
   "cell_type": "code",
   "execution_count": 34,
   "metadata": {},
   "outputs": [
    {
     "data": {
      "text/plain": [
       "0.9374021909233177"
      ]
     },
     "execution_count": 34,
     "metadata": {},
     "output_type": "execute_result"
    }
   ],
   "source": [
    "accuracy_score(y_test, predict)"
   ]
  },
  {
   "cell_type": "code",
   "execution_count": 36,
   "metadata": {},
   "outputs": [
    {
     "data": {
      "text/plain": [
       "(1198, 0, 80, 0)"
      ]
     },
     "execution_count": 36,
     "metadata": {},
     "output_type": "execute_result"
    }
   ],
   "source": [
    "tn, fp, fn, tp = confusion_matrix(y_test,predict).ravel()\n",
    "(tn, fp, fn, tp)"
   ]
  },
  {
   "cell_type": "code",
   "execution_count": 43,
   "metadata": {},
   "outputs": [
    {
     "name": "stdout",
     "output_type": "stream",
     "text": [
      "0.5460122699386503\n"
     ]
    },
    {
     "data": {
      "text/plain": [
       "(83, 14, 60, 6)"
      ]
     },
     "execution_count": 43,
     "metadata": {},
     "output_type": "execute_result"
    }
   ],
   "source": [
    "knn = KNeighborsClassifier(10)\n",
    "knn.fit(x_train_balanced, y_train_balanced)\n",
    "predict = knn.predict(x_test_balanced)\n",
    "print(accuracy_score(y_test_balanced, predict))\n",
    "tn, fp, fn, tp = confusion_matrix(y_test_balanced, predict).ravel()\n",
    "(tn, fp, fn, tp)"
   ]
  },
  {
   "cell_type": "code",
   "execution_count": 44,
   "metadata": {},
   "outputs": [
    {
     "name": "stdout",
     "output_type": "stream",
     "text": [
      "0.5337423312883436\n"
     ]
    },
    {
     "data": {
      "text/plain": [
       "(71, 26, 50, 16)"
      ]
     },
     "execution_count": 44,
     "metadata": {},
     "output_type": "execute_result"
    }
   ],
   "source": [
    "knn = KNeighborsClassifier()\n",
    "knn.fit(x_train_balanced, y_train_balanced)\n",
    "predict = knn.predict(x_test_balanced)\n",
    "print(accuracy_score(y_test_balanced, predict))\n",
    "tn, fp, fn, tp = confusion_matrix(y_test_balanced, predict).ravel()\n",
    "(tn, fp, fn, tp)"
   ]
  },
  {
   "cell_type": "code",
   "execution_count": 45,
   "metadata": {},
   "outputs": [
    {
     "name": "stdout",
     "output_type": "stream",
     "text": [
      "0.5521472392638037\n"
     ]
    },
    {
     "data": {
      "text/plain": [
       "(86, 11, 62, 4)"
      ]
     },
     "execution_count": 45,
     "metadata": {},
     "output_type": "execute_result"
    }
   ],
   "source": [
    "knn = KNeighborsClassifier(8)\n",
    "knn.fit(x_train_balanced, y_train_balanced)\n",
    "predict = knn.predict(x_test_balanced)\n",
    "print(accuracy_score(y_test_balanced, predict))\n",
    "tn, fp, fn, tp = confusion_matrix(y_test_balanced, predict).ravel()\n",
    "(tn, fp, fn, tp)"
   ]
  },
  {
   "cell_type": "code",
   "execution_count": 54,
   "metadata": {},
   "outputs": [],
   "source": [
    "def knn_classifier(neighbors, distance_metric, weights = 'distance'):\n",
    "    knn = KNeighborsClassifier(neighbors, metric = distance_metric, weights = 'distance')\n",
    "    knn.fit(x_train_balanced, y_train_balanced)\n",
    "    predict = knn.predict(x_test_balanced)\n",
    "    print(accuracy_score(y_test_balanced, predict))\n",
    "    tn, fp, fn, tp = confusion_matrix(y_test_balanced, predict).ravel()\n",
    "    return accuracy_score(y_test_balanced, predict),(tn, fp, fn, tp)"
   ]
  },
  {
   "cell_type": "code",
   "execution_count": 55,
   "metadata": {},
   "outputs": [
    {
     "name": "stdout",
     "output_type": "stream",
     "text": [
      "0.5030674846625767\n",
      "0.5030674846625767\n",
      "(65, 32, 49, 17)\n"
     ]
    }
   ],
   "source": [
    "accuracy, confusion = knn_classifier(10, 'manhattan')\n",
    "print(accuracy)\n",
    "print(confusion)"
   ]
  },
  {
   "cell_type": "code",
   "execution_count": 56,
   "metadata": {},
   "outputs": [
    {
     "name": "stdout",
     "output_type": "stream",
     "text": [
      "0.5214723926380368\n",
      "0.5214723926380368\n",
      "(67, 30, 48, 18)\n"
     ]
    }
   ],
   "source": [
    "accuracy, confusion = knn_classifier(8, 'manhattan')\n",
    "print(accuracy)\n",
    "print(confusion)"
   ]
  },
  {
   "cell_type": "code",
   "execution_count": 57,
   "metadata": {},
   "outputs": [
    {
     "name": "stdout",
     "output_type": "stream",
     "text": [
      "0.5276073619631901\n",
      "0.5276073619631901\n",
      "(70, 27, 50, 16)\n"
     ]
    }
   ],
   "source": [
    "accuracy, confusion = knn_classifier(20, 'manhattan')\n",
    "print(accuracy)\n",
    "print(confusion)"
   ]
  },
  {
   "cell_type": "code",
   "execution_count": 58,
   "metadata": {},
   "outputs": [
    {
     "name": "stdout",
     "output_type": "stream",
     "text": [
      "0.5398773006134969\n",
      "0.5398773006134969\n",
      "(66, 31, 44, 22)\n"
     ]
    }
   ],
   "source": [
    "accuracy, confusion = knn_classifier(3, 'manhattan')\n",
    "print(accuracy)\n",
    "print(confusion)"
   ]
  },
  {
   "cell_type": "code",
   "execution_count": 59,
   "metadata": {},
   "outputs": [
    {
     "data": {
      "text/plain": [
       "0    97\n",
       "1    66\n",
       "Name: stroke, dtype: int64"
      ]
     },
     "execution_count": 59,
     "metadata": {},
     "output_type": "execute_result"
    }
   ],
   "source": [
    "y_test_balanced.value_counts()"
   ]
  },
  {
   "cell_type": "code",
   "execution_count": 60,
   "metadata": {},
   "outputs": [
    {
     "data": {
      "text/plain": [
       "KFold(n_splits=5, random_state=None, shuffle=False)"
      ]
     },
     "execution_count": 60,
     "metadata": {},
     "output_type": "execute_result"
    }
   ],
   "source": [
    "kf = KFold()\n",
    "kf"
   ]
  },
  {
   "cell_type": "code",
   "execution_count": 68,
   "metadata": {},
   "outputs": [
    {
     "name": "stdout",
     "output_type": "stream",
     "text": [
      "0.7563600782778865\n",
      "773 0 249 0\n",
      "0.974559686888454\n",
      "996 26 0 0\n",
      "0.9735812133072407\n",
      "995 27 0 0\n",
      "0.9794520547945206\n",
      "1001 21 0 0\n",
      "0.9666993143976493\n",
      "987 34 0 0\n"
     ]
    }
   ],
   "source": [
    "features = np.array(data.loc[:, data.columns!= 'stroke'])\n",
    "target= np.array(data.stroke)\n",
    "\n",
    "for train_index, test_index in kf.split(features):\n",
    "    x_train, x_test = features[train_index], features[test_index]\n",
    "    y_train, y_test = target[train_index], target[test_index]\n",
    "    knn = KNeighborsClassifier(3, metric='manhattan', weights='distance')\n",
    "    knn.fit(x_train, y_train)\n",
    "    predict = knn.predict(x_test)\n",
    "    print(accuracy_score(y_test, predict))\n",
    "    tn, fp, fn, tp = confusion_matrix(y_test, predict).ravel()\n",
    "    print(tn, fp, fn, tp)"
   ]
  },
  {
   "cell_type": "code",
   "execution_count": null,
   "metadata": {},
   "outputs": [],
   "source": [
    "kf.split"
   ]
  },
  {
   "cell_type": "code",
   "execution_count": 66,
   "metadata": {},
   "outputs": [
    {
     "data": {
      "text/plain": [
       "RepeatedKFold(n_repeats=2, n_splits=5, random_state=None)"
      ]
     },
     "execution_count": 66,
     "metadata": {},
     "output_type": "execute_result"
    }
   ],
   "source": [
    "rkf =RepeatedKFold(n_repeats=2)\n",
    "rkf"
   ]
  },
  {
   "cell_type": "code",
   "execution_count": 69,
   "metadata": {},
   "outputs": [
    {
     "name": "stdout",
     "output_type": "stream",
     "text": [
      "0.9315068493150684\n",
      "951 18 52 1\n",
      "0.9275929549902152\n",
      "946 24 50 2\n",
      "0.9363992172211351\n",
      "956 14 51 1\n",
      "0.9403131115459883\n",
      "961 18 43 0\n",
      "0.9275220372184133\n",
      "946 26 48 1\n",
      "0.9403131115459883\n",
      "959 24 37 2\n",
      "0.9266144814090019\n",
      "947 18 57 0\n",
      "0.9334637964774951\n",
      "953 15 53 1\n",
      "0.9354207436399217\n",
      "956 19 47 0\n",
      "0.9333986287952988\n",
      "950 19 49 3\n"
     ]
    }
   ],
   "source": [
    "features = np.array(data.loc[:, data.columns!= 'stroke'])\n",
    "target= np.array(data.stroke)\n",
    "\n",
    "for train_index, test_index in rkf.split(features):\n",
    "    x_train, x_test = features[train_index], features[test_index]\n",
    "    y_train, y_test = target[train_index], target[test_index]\n",
    "    knn = KNeighborsClassifier(3, metric='manhattan', weights='distance')\n",
    "    knn.fit(x_train, y_train)\n",
    "    predict = knn.predict(x_test)\n",
    "    print(accuracy_score(y_test, predict))\n",
    "    tn, fp, fn, tp = confusion_matrix(y_test, predict).ravel()\n",
    "    print(tn, fp, fn, tp)"
   ]
  },
  {
   "cell_type": "code",
   "execution_count": null,
   "metadata": {},
   "outputs": [],
   "source": []
  },
  {
   "cell_type": "code",
   "execution_count": null,
   "metadata": {},
   "outputs": [],
   "source": []
  }
 ],
 "metadata": {
  "kernelspec": {
   "display_name": "Python 3",
   "language": "python",
   "name": "python3"
  },
  "language_info": {
   "codemirror_mode": {
    "name": "ipython",
    "version": 3
   },
   "file_extension": ".py",
   "mimetype": "text/x-python",
   "name": "python",
   "nbconvert_exporter": "python",
   "pygments_lexer": "ipython3",
   "version": "3.8.5"
  }
 },
 "nbformat": 4,
 "nbformat_minor": 4
}
